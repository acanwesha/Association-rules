{
 "cells": [
  {
   "cell_type": "code",
   "execution_count": 1,
   "metadata": {},
   "outputs": [],
   "source": [
    "import pandas as pd\n",
    "import matplotlib.pyplot as plt\n",
    "import seaborn as sns\n",
    "import numpy as np\n",
    "from mlxtend.frequent_patterns import apriori, association_rules"
   ]
  },
  {
   "cell_type": "code",
   "execution_count": 2,
   "metadata": {},
   "outputs": [],
   "source": [
    "movies = pd.read_csv(\"my_movies.csv\")\n"
   ]
  },
  {
   "cell_type": "code",
   "execution_count": 3,
   "metadata": {},
   "outputs": [],
   "source": [
    "movies_a = movies.drop(movies.columns[5:16], axis=1)\n",
    "movies_a.fillna('null',inplace=True)"
   ]
  },
  {
   "cell_type": "code",
   "execution_count": 4,
   "metadata": {},
   "outputs": [],
   "source": [
    "movies_list = movies_a.to_numpy().tolist()"
   ]
  },
  {
   "cell_type": "code",
   "execution_count": 5,
   "metadata": {},
   "outputs": [],
   "source": [
    "j=len(movies_list)\n",
    "i=0\n",
    "while i < j:\n",
    "    while 'null' in movies_list[i]:\n",
    "        movies_list[i].remove('null')\n",
    "    i+=1"
   ]
  },
  {
   "cell_type": "code",
   "execution_count": 6,
   "metadata": {},
   "outputs": [
    {
     "name": "stdout",
     "output_type": "stream",
     "text": [
      "['Sixth Sense', 'LOTR1', 'Harry Potter1', 'Green Mile', 'LOTR2', 'Gladiator', 'Patriot', 'Braveheart', 'LOTR1', 'LOTR2', 'Gladiator', 'Patriot', 'Sixth Sense', 'Gladiator', 'Patriot', 'Sixth Sense', 'Gladiator', 'Patriot', 'Sixth Sense', 'Harry Potter1', 'Harry Potter2', 'Gladiator', 'Patriot', 'Gladiator', 'Patriot', 'Sixth Sense', 'Sixth Sense', 'LOTR', 'Gladiator', 'Green Mile']\n"
     ]
    },
    {
     "data": {
      "text/plain": [
       "30"
      ]
     },
     "execution_count": 6,
     "metadata": {},
     "output_type": "execute_result"
    }
   ],
   "source": [
    "all_movies_list = [movie for transaction in movies_list for movie in transaction]\n",
    "print(all_movies_list)\n",
    "len(all_movies_list)"
   ]
  },
  {
   "cell_type": "code",
   "execution_count": 7,
   "metadata": {},
   "outputs": [
    {
     "name": "stdout",
     "output_type": "stream",
     "text": [
      "Raw Data   :\n",
      " Counter({'Gladiator': 7, 'Sixth Sense': 6, 'Patriot': 6, 'LOTR1': 2, 'Harry Potter1': 2, 'Green Mile': 2, 'LOTR2': 2, 'Braveheart': 1, 'Harry Potter2': 1, 'LOTR': 1})\n",
      "\n",
      "Sorted Data:\n",
      " [('Braveheart', 1), ('Harry Potter2', 1), ('LOTR', 1), ('LOTR1', 2), ('Harry Potter1', 2), ('Green Mile', 2), ('LOTR2', 2), ('Sixth Sense', 6), ('Patriot', 6), ('Gladiator', 7)]\n"
     ]
    }
   ],
   "source": [
    "from collections import Counter\n",
    "from collections import OrderedDict\n",
    "\n",
    "movie_frequency=Counter(all_movies_list)\n",
    "print(\"Raw Data   :\\n\",movie_frequency)\n",
    "\n",
    "movie_frequency=sorted(movie_frequency.items(), key = lambda x:x[1]) \n",
    "print(\"\\nSorted Data:\\n\",movie_frequency)\n"
   ]
  },
  {
   "cell_type": "code",
   "execution_count": 8,
   "metadata": {},
   "outputs": [
    {
     "name": "stdout",
     "output_type": "stream",
     "text": [
      "\n",
      " Movie List: ['Gladiator', 'Patriot', 'Sixth Sense', 'LOTR2', 'Green Mile', 'Harry Potter1', 'LOTR1', 'LOTR', 'Harry Potter2', 'Braveheart']\n",
      "\n",
      " Movie Frequency [7, 6, 6, 2, 2, 2, 2, 1, 1, 1]\n"
     ]
    }
   ],
   "source": [
    "frequencies = list(reversed([i[1] for i in movie_frequency]))\n",
    "movies = list(reversed([i[0] for i in movie_frequency]))\n",
    "\n",
    "print(\"\\n Movie List:\",movies)\n",
    "print(\"\\n Movie Frequency\",frequencies)"
   ]
  },
  {
   "cell_type": "code",
   "execution_count": 9,
   "metadata": {},
   "outputs": [
    {
     "data": {
      "image/png": "[encoded data removed]",
      "text/plain": [
       "<Figure size 432x288 with 1 Axes>"
      ]
     },
     "metadata": {
      "needs_background": "light"
     },
     "output_type": "display_data"
    }
   ],
   "source": [
    "import matplotlib.pyplot as plt\n",
    "\n",
    "plt.bar (movies,frequencies)\n",
    "plt.xticks(rotation = 90)\n",
    "plt.xlabel(\"Movies\")\n",
    "plt.ylabel(\"Frequency\")\n",
    "plt.show()"
   ]
  },
  {
   "cell_type": "code",
   "execution_count": 10,
   "metadata": {},
   "outputs": [
    {
     "name": "stdout",
     "output_type": "stream",
     "text": [
      "                                        Movie_Series\n",
      "0  [Sixth Sense, LOTR1, Harry Potter1, Green Mile...\n",
      "1                   [Gladiator, Patriot, Braveheart]\n",
      "2                                     [LOTR1, LOTR2]\n",
      "3                  [Gladiator, Patriot, Sixth Sense]\n",
      "4                  [Gladiator, Patriot, Sixth Sense]\n",
      "5                  [Gladiator, Patriot, Sixth Sense]\n",
      "6                     [Harry Potter1, Harry Potter2]\n",
      "7                               [Gladiator, Patriot]\n",
      "8                  [Gladiator, Patriot, Sixth Sense]\n",
      "9         [Sixth Sense, LOTR, Gladiator, Green Mile]\n"
     ]
    }
   ],
   "source": [
    "movie_series  = pd.DataFrame(pd.Series(movies_list))\n",
    "movie_series.columns = [\"Movie_Series\"]\n",
    "print(movie_series)"
   ]
  },
  {
   "cell_type": "code",
   "execution_count": 11,
   "metadata": {},
   "outputs": [],
   "source": [
    "X = movie_series['Movie_Series'].str.join(sep='*')"
   ]
  },
  {
   "cell_type": "code",
   "execution_count": 12,
   "metadata": {},
   "outputs": [],
   "source": [
    "X= X.str.get_dummies(sep='*')"
   ]
  },
  {
   "cell_type": "code",
   "execution_count": 13,
   "metadata": {},
   "outputs": [
    {
     "name": "stdout",
     "output_type": "stream",
     "text": [
      "Raw Data:\n",
      "    support         itemsets\n",
      "0      0.1     (Braveheart)\n",
      "1      0.7      (Gladiator)\n",
      "2      0.2     (Green Mile)\n",
      "3      0.2  (Harry Potter1)\n",
      "4      0.1  (Harry Potter2)\n",
      "\n",
      "Sorted as per Support value:\n",
      "     support                  itemsets\n",
      "1       0.7               (Gladiator)\n",
      "14      0.6      (Patriot, Gladiator)\n",
      "8       0.6                 (Patriot)\n",
      "9       0.6             (Sixth Sense)\n",
      "15      0.5  (Sixth Sense, Gladiator)\n"
     ]
    }
   ],
   "source": [
    "frequent_movies = apriori(X, min_support=0.005, max_len=3,use_colnames = True)\n",
    "print(\"Raw Data:\\n\",frequent_movies.head())\n",
    "\n",
    "# Sort decending order based on support  \n",
    "frequent_movies.sort_values('support',ascending = False,inplace=True)\n",
    "print(\"\\nSorted as per Support value:\\n\",frequent_movies.head())"
   ]
  },
  {
   "cell_type": "code",
   "execution_count": 14,
   "metadata": {},
   "outputs": [],
   "source": [
    "rules = association_rules(frequent_movies, metric=\"lift\", min_threshold=1)\n",
    "rules.sort_values('lift',ascending = False,inplace=True)"
   ]
  },
  {
   "cell_type": "code",
   "execution_count": 15,
   "metadata": {},
   "outputs": [
    {
     "data": {
      "image/png": "[encoded data removed]",
      "text/plain": [
       "<Figure size 432x288 with 1 Axes>"
      ]
     },
     "metadata": {
      "needs_background": "light"
     },
     "output_type": "display_data"
    }
   ],
   "source": [
    "sns.scatterplot(x=rules['support'],y=rules['confidence'], data=rules)\n",
    "plt.title(\"Association Rule\")\n",
    "plt.show()"
   ]
  },
  {
   "cell_type": "code",
   "execution_count": 16,
   "metadata": {},
   "outputs": [],
   "source": [
    "frequent_movies1 = apriori(X, min_support=0.004, max_len=4,use_colnames = True)"
   ]
  },
  {
   "cell_type": "code",
   "execution_count": 17,
   "metadata": {},
   "outputs": [
    {
     "data": {
      "text/html": [
       "<div>\n",
       "<style scoped>\n",
       "    .dataframe tbody tr th:only-of-type {\n",
       "        vertical-align: middle;\n",
       "    }\n",
       "\n",
       "    .dataframe tbody tr th {\n",
       "        vertical-align: top;\n",
       "    }\n",
       "\n",
       "    .dataframe thead th {\n",
       "        text-align: right;\n",
       "    }\n",
       "</style>\n",
       "<table border=\"1\" class=\"dataframe\">\n",
       "  <thead>\n",
       "    <tr style=\"text-align: right;\">\n",
       "      <th></th>\n",
       "      <th>support</th>\n",
       "      <th>itemsets</th>\n",
       "    </tr>\n",
       "  </thead>\n",
       "  <tbody>\n",
       "    <tr>\n",
       "      <th>0</th>\n",
       "      <td>0.1</td>\n",
       "      <td>(Braveheart)</td>\n",
       "    </tr>\n",
       "    <tr>\n",
       "      <th>1</th>\n",
       "      <td>0.7</td>\n",
       "      <td>(Gladiator)</td>\n",
       "    </tr>\n",
       "    <tr>\n",
       "      <th>2</th>\n",
       "      <td>0.2</td>\n",
       "      <td>(Green Mile)</td>\n",
       "    </tr>\n",
       "    <tr>\n",
       "      <th>3</th>\n",
       "      <td>0.2</td>\n",
       "      <td>(Harry Potter1)</td>\n",
       "    </tr>\n",
       "    <tr>\n",
       "      <th>4</th>\n",
       "      <td>0.1</td>\n",
       "      <td>(Harry Potter2)</td>\n",
       "    </tr>\n",
       "    <tr>\n",
       "      <th>5</th>\n",
       "      <td>0.1</td>\n",
       "      <td>(LOTR)</td>\n",
       "    </tr>\n",
       "    <tr>\n",
       "      <th>6</th>\n",
       "      <td>0.2</td>\n",
       "      <td>(LOTR1)</td>\n",
       "    </tr>\n",
       "    <tr>\n",
       "      <th>7</th>\n",
       "      <td>0.2</td>\n",
       "      <td>(LOTR2)</td>\n",
       "    </tr>\n",
       "    <tr>\n",
       "      <th>8</th>\n",
       "      <td>0.6</td>\n",
       "      <td>(Patriot)</td>\n",
       "    </tr>\n",
       "    <tr>\n",
       "      <th>9</th>\n",
       "      <td>0.6</td>\n",
       "      <td>(Sixth Sense)</td>\n",
       "    </tr>\n",
       "    <tr>\n",
       "      <th>10</th>\n",
       "      <td>0.1</td>\n",
       "      <td>(Braveheart, Gladiator)</td>\n",
       "    </tr>\n",
       "    <tr>\n",
       "      <th>11</th>\n",
       "      <td>0.1</td>\n",
       "      <td>(Braveheart, Patriot)</td>\n",
       "    </tr>\n",
       "    <tr>\n",
       "      <th>12</th>\n",
       "      <td>0.1</td>\n",
       "      <td>(Green Mile, Gladiator)</td>\n",
       "    </tr>\n",
       "    <tr>\n",
       "      <th>13</th>\n",
       "      <td>0.1</td>\n",
       "      <td>(LOTR, Gladiator)</td>\n",
       "    </tr>\n",
       "    <tr>\n",
       "      <th>14</th>\n",
       "      <td>0.6</td>\n",
       "      <td>(Patriot, Gladiator)</td>\n",
       "    </tr>\n",
       "    <tr>\n",
       "      <th>15</th>\n",
       "      <td>0.5</td>\n",
       "      <td>(Sixth Sense, Gladiator)</td>\n",
       "    </tr>\n",
       "    <tr>\n",
       "      <th>16</th>\n",
       "      <td>0.1</td>\n",
       "      <td>(Harry Potter1, Green Mile)</td>\n",
       "    </tr>\n",
       "    <tr>\n",
       "      <th>17</th>\n",
       "      <td>0.1</td>\n",
       "      <td>(LOTR, Green Mile)</td>\n",
       "    </tr>\n",
       "    <tr>\n",
       "      <th>18</th>\n",
       "      <td>0.1</td>\n",
       "      <td>(LOTR1, Green Mile)</td>\n",
       "    </tr>\n",
       "    <tr>\n",
       "      <th>19</th>\n",
       "      <td>0.1</td>\n",
       "      <td>(Green Mile, LOTR2)</td>\n",
       "    </tr>\n",
       "    <tr>\n",
       "      <th>20</th>\n",
       "      <td>0.2</td>\n",
       "      <td>(Sixth Sense, Green Mile)</td>\n",
       "    </tr>\n",
       "    <tr>\n",
       "      <th>21</th>\n",
       "      <td>0.1</td>\n",
       "      <td>(Harry Potter1, Harry Potter2)</td>\n",
       "    </tr>\n",
       "    <tr>\n",
       "      <th>22</th>\n",
       "      <td>0.1</td>\n",
       "      <td>(Harry Potter1, LOTR1)</td>\n",
       "    </tr>\n",
       "    <tr>\n",
       "      <th>23</th>\n",
       "      <td>0.1</td>\n",
       "      <td>(Harry Potter1, LOTR2)</td>\n",
       "    </tr>\n",
       "    <tr>\n",
       "      <th>24</th>\n",
       "      <td>0.1</td>\n",
       "      <td>(Sixth Sense, Harry Potter1)</td>\n",
       "    </tr>\n",
       "    <tr>\n",
       "      <th>25</th>\n",
       "      <td>0.1</td>\n",
       "      <td>(Sixth Sense, LOTR)</td>\n",
       "    </tr>\n",
       "    <tr>\n",
       "      <th>26</th>\n",
       "      <td>0.2</td>\n",
       "      <td>(LOTR1, LOTR2)</td>\n",
       "    </tr>\n",
       "    <tr>\n",
       "      <th>27</th>\n",
       "      <td>0.1</td>\n",
       "      <td>(Sixth Sense, LOTR1)</td>\n",
       "    </tr>\n",
       "    <tr>\n",
       "      <th>28</th>\n",
       "      <td>0.1</td>\n",
       "      <td>(Sixth Sense, LOTR2)</td>\n",
       "    </tr>\n",
       "    <tr>\n",
       "      <th>29</th>\n",
       "      <td>0.4</td>\n",
       "      <td>(Sixth Sense, Patriot)</td>\n",
       "    </tr>\n",
       "    <tr>\n",
       "      <th>30</th>\n",
       "      <td>0.1</td>\n",
       "      <td>(Braveheart, Patriot, Gladiator)</td>\n",
       "    </tr>\n",
       "    <tr>\n",
       "      <th>31</th>\n",
       "      <td>0.1</td>\n",
       "      <td>(LOTR, Green Mile, Gladiator)</td>\n",
       "    </tr>\n",
       "    <tr>\n",
       "      <th>32</th>\n",
       "      <td>0.1</td>\n",
       "      <td>(Sixth Sense, Green Mile, Gladiator)</td>\n",
       "    </tr>\n",
       "    <tr>\n",
       "      <th>33</th>\n",
       "      <td>0.1</td>\n",
       "      <td>(LOTR, Sixth Sense, Gladiator)</td>\n",
       "    </tr>\n",
       "    <tr>\n",
       "      <th>34</th>\n",
       "      <td>0.4</td>\n",
       "      <td>(Sixth Sense, Patriot, Gladiator)</td>\n",
       "    </tr>\n",
       "    <tr>\n",
       "      <th>35</th>\n",
       "      <td>0.1</td>\n",
       "      <td>(Harry Potter1, LOTR1, Green Mile)</td>\n",
       "    </tr>\n",
       "    <tr>\n",
       "      <th>36</th>\n",
       "      <td>0.1</td>\n",
       "      <td>(Harry Potter1, Green Mile, LOTR2)</td>\n",
       "    </tr>\n",
       "    <tr>\n",
       "      <th>37</th>\n",
       "      <td>0.1</td>\n",
       "      <td>(Sixth Sense, Green Mile, Harry Potter1)</td>\n",
       "    </tr>\n",
       "    <tr>\n",
       "      <th>38</th>\n",
       "      <td>0.1</td>\n",
       "      <td>(Sixth Sense, LOTR, Green Mile)</td>\n",
       "    </tr>\n",
       "    <tr>\n",
       "      <th>39</th>\n",
       "      <td>0.1</td>\n",
       "      <td>(LOTR1, Green Mile, LOTR2)</td>\n",
       "    </tr>\n",
       "    <tr>\n",
       "      <th>40</th>\n",
       "      <td>0.1</td>\n",
       "      <td>(Sixth Sense, LOTR1, Green Mile)</td>\n",
       "    </tr>\n",
       "    <tr>\n",
       "      <th>41</th>\n",
       "      <td>0.1</td>\n",
       "      <td>(Sixth Sense, Green Mile, LOTR2)</td>\n",
       "    </tr>\n",
       "    <tr>\n",
       "      <th>42</th>\n",
       "      <td>0.1</td>\n",
       "      <td>(Harry Potter1, LOTR1, LOTR2)</td>\n",
       "    </tr>\n",
       "    <tr>\n",
       "      <th>43</th>\n",
       "      <td>0.1</td>\n",
       "      <td>(Sixth Sense, LOTR1, Harry Potter1)</td>\n",
       "    </tr>\n",
       "    <tr>\n",
       "      <th>44</th>\n",
       "      <td>0.1</td>\n",
       "      <td>(Sixth Sense, Harry Potter1, LOTR2)</td>\n",
       "    </tr>\n",
       "    <tr>\n",
       "      <th>45</th>\n",
       "      <td>0.1</td>\n",
       "      <td>(Sixth Sense, LOTR1, LOTR2)</td>\n",
       "    </tr>\n",
       "    <tr>\n",
       "      <th>46</th>\n",
       "      <td>0.1</td>\n",
       "      <td>(LOTR, Sixth Sense, Green Mile, Gladiator)</td>\n",
       "    </tr>\n",
       "    <tr>\n",
       "      <th>47</th>\n",
       "      <td>0.1</td>\n",
       "      <td>(Harry Potter1, LOTR1, Green Mile, LOTR2)</td>\n",
       "    </tr>\n",
       "    <tr>\n",
       "      <th>48</th>\n",
       "      <td>0.1</td>\n",
       "      <td>(Sixth Sense, LOTR1, Green Mile, Harry Potter1)</td>\n",
       "    </tr>\n",
       "    <tr>\n",
       "      <th>49</th>\n",
       "      <td>0.1</td>\n",
       "      <td>(Sixth Sense, Green Mile, LOTR2, Harry Potter1)</td>\n",
       "    </tr>\n",
       "    <tr>\n",
       "      <th>50</th>\n",
       "      <td>0.1</td>\n",
       "      <td>(Sixth Sense, LOTR1, Green Mile, LOTR2)</td>\n",
       "    </tr>\n",
       "    <tr>\n",
       "      <th>51</th>\n",
       "      <td>0.1</td>\n",
       "      <td>(Sixth Sense, LOTR1, Harry Potter1, LOTR2)</td>\n",
       "    </tr>\n",
       "  </tbody>\n",
       "</table>\n",
       "</div>"
      ],
      "text/plain": [
       "    support                                         itemsets\n",
       "0       0.1                                     (Braveheart)\n",
       "1       0.7                                      (Gladiator)\n",
       "2       0.2                                     (Green Mile)\n",
       "3       0.2                                  (Harry Potter1)\n",
       "4       0.1                                  (Harry Potter2)\n",
       "5       0.1                                           (LOTR)\n",
       "6       0.2                                          (LOTR1)\n",
       "7       0.2                                          (LOTR2)\n",
       "8       0.6                                        (Patriot)\n",
       "9       0.6                                    (Sixth Sense)\n",
       "10      0.1                          (Braveheart, Gladiator)\n",
       "11      0.1                            (Braveheart, Patriot)\n",
       "12      0.1                          (Green Mile, Gladiator)\n",
       "13      0.1                                (LOTR, Gladiator)\n",
       "14      0.6                             (Patriot, Gladiator)\n",
       "15      0.5                         (Sixth Sense, Gladiator)\n",
       "16      0.1                      (Harry Potter1, Green Mile)\n",
       "17      0.1                               (LOTR, Green Mile)\n",
       "18      0.1                              (LOTR1, Green Mile)\n",
       "19      0.1                              (Green Mile, LOTR2)\n",
       "20      0.2                        (Sixth Sense, Green Mile)\n",
       "21      0.1                   (Harry Potter1, Harry Potter2)\n",
       "22      0.1                           (Harry Potter1, LOTR1)\n",
       "23      0.1                           (Harry Potter1, LOTR2)\n",
       "24      0.1                     (Sixth Sense, Harry Potter1)\n",
       "25      0.1                              (Sixth Sense, LOTR)\n",
       "26      0.2                                   (LOTR1, LOTR2)\n",
       "27      0.1                             (Sixth Sense, LOTR1)\n",
       "28      0.1                             (Sixth Sense, LOTR2)\n",
       "29      0.4                           (Sixth Sense, Patriot)\n",
       "30      0.1                 (Braveheart, Patriot, Gladiator)\n",
       "31      0.1                    (LOTR, Green Mile, Gladiator)\n",
       "32      0.1             (Sixth Sense, Green Mile, Gladiator)\n",
       "33      0.1                   (LOTR, Sixth Sense, Gladiator)\n",
       "34      0.4                (Sixth Sense, Patriot, Gladiator)\n",
       "35      0.1               (Harry Potter1, LOTR1, Green Mile)\n",
       "36      0.1               (Harry Potter1, Green Mile, LOTR2)\n",
       "37      0.1         (Sixth Sense, Green Mile, Harry Potter1)\n",
       "38      0.1                  (Sixth Sense, LOTR, Green Mile)\n",
       "39      0.1                       (LOTR1, Green Mile, LOTR2)\n",
       "40      0.1                 (Sixth Sense, LOTR1, Green Mile)\n",
       "41      0.1                 (Sixth Sense, Green Mile, LOTR2)\n",
       "42      0.1                    (Harry Potter1, LOTR1, LOTR2)\n",
       "43      0.1              (Sixth Sense, LOTR1, Harry Potter1)\n",
       "44      0.1              (Sixth Sense, Harry Potter1, LOTR2)\n",
       "45      0.1                      (Sixth Sense, LOTR1, LOTR2)\n",
       "46      0.1       (LOTR, Sixth Sense, Green Mile, Gladiator)\n",
       "47      0.1        (Harry Potter1, LOTR1, Green Mile, LOTR2)\n",
       "48      0.1  (Sixth Sense, LOTR1, Green Mile, Harry Potter1)\n",
       "49      0.1  (Sixth Sense, Green Mile, LOTR2, Harry Potter1)\n",
       "50      0.1          (Sixth Sense, LOTR1, Green Mile, LOTR2)\n",
       "51      0.1       (Sixth Sense, LOTR1, Harry Potter1, LOTR2)"
      ]
     },
     "execution_count": 17,
     "metadata": {},
     "output_type": "execute_result"
    }
   ],
   "source": [
    "frequent_movies1"
   ]
  },
  {
   "cell_type": "code",
   "execution_count": 18,
   "metadata": {},
   "outputs": [
    {
     "name": "stdout",
     "output_type": "stream",
     "text": [
      "\n",
      "Sorted as per Support value:\n",
      "    support         itemsets\n",
      "0      0.1     (Braveheart)\n",
      "1      0.7      (Gladiator)\n",
      "2      0.2     (Green Mile)\n",
      "3      0.2  (Harry Potter1)\n",
      "4      0.1  (Harry Potter2)\n"
     ]
    }
   ],
   "source": [
    "frequent_movies.sort_values('support',ascending = False,inplace=True)\n",
    "print(\"\\nSorted as per Support value:\\n\",frequent_movies1.head())"
   ]
  },
  {
   "cell_type": "code",
   "execution_count": 19,
   "metadata": {},
   "outputs": [],
   "source": [
    "rules1 = association_rules(frequent_movies1, metric=\"lift\", min_threshold=1)\n",
    "rules1.sort_values('lift',ascending = False,inplace=True)"
   ]
  },
  {
   "cell_type": "code",
   "execution_count": 20,
   "metadata": {},
   "outputs": [
    {
     "data": {
      "image/png": "[encoded data removed]",
      "text/plain": [
       "<Figure size 432x288 with 1 Axes>"
      ]
     },
     "metadata": {
      "needs_background": "light"
     },
     "output_type": "display_data"
    }
   ],
   "source": [
    "sns.scatterplot(x=rules1['support'],y=rules1['confidence'], data=rules1)\n",
    "plt.title(\"Association Rule\")\n",
    "plt.show()"
   ]
  },
  {
   "cell_type": "code",
   "execution_count": 21,
   "metadata": {},
   "outputs": [
    {
     "data": {
      "image/png": "[encoded data removed]",
      "text/plain": [
       "<Figure size 432x288 with 1 Axes>"
      ]
     },
     "metadata": {
      "needs_background": "light"
     },
     "output_type": "display_data"
    }
   ],
   "source": [
    "sns.boxplot(rules['lift'], data=rules1,orient='v')\n",
    "plt.show()"
   ]
  },
  {
   "cell_type": "code",
   "execution_count": 22,
   "metadata": {},
   "outputs": [],
   "source": [
    "A1 = rules1.antecedents.iloc[0:10]\n",
    "B1 = rules1.consequents.iloc[0:10]\n",
    "C1 = rules1.lift.iloc[0:10]\n",
    "\n",
    "# frozen set error so change A & B:\n",
    "\n",
    "A1 = A1.apply(lambda x: list(x)[0]).astype(\"unicode\")\n",
    "B1 = B1.apply(lambda x: list(x)[0]).astype(\"unicode\")"
   ]
  },
  {
   "cell_type": "code",
   "execution_count": 23,
   "metadata": {},
   "outputs": [
    {
     "data": {
      "image/png": "[encoded data removed]",
      "text/plain": [
       "<Figure size 432x432 with 2 Axes>"
      ]
     },
     "metadata": {
      "needs_background": "light"
     },
     "output_type": "display_data"
    }
   ],
   "source": [
    "fig = plt.figure(figsize=(6,6))\n",
    "ax = plt.subplot(111)\n",
    "sc1 = plt.scatter(A1,B1, s = 200, c=C1, cmap=plt.cm.jet)\n",
    "cbar = fig.colorbar(sc1, orientation='vertical')    \n",
    "plt.xticks(rotation=90)\n",
    "plt.xlabel(\"antecedents\")\n",
    "plt.ylabel(\"consequents\")\n",
    "plt.show()"
   ]
  },
  {
   "cell_type": "code",
   "execution_count": null,
   "metadata": {},
   "outputs": [],
   "source": []
  }
 ],
 "metadata": {
  "kernelspec": {
   "display_name": "Python 3",
   "language": "python",
   "name": "python3"
  },
  "language_info": {
   "codemirror_mode": {
    "name": "ipython",
    "version": 3
   },
   "file_extension": ".py",
   "mimetype": "text/x-python",
   "name": "python",
   "nbconvert_exporter": "python",
   "pygments_lexer": "ipython3",
   "version": "3.8.3"
  }
 },
 "nbformat": 4,
 "nbformat_minor": 4
}
